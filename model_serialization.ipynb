{
 "cells": [
  {
   "cell_type": "markdown",
   "metadata": {},
   "source": [
    "## Model Serialization notebook"
   ]
  },
  {
   "cell_type": "code",
   "execution_count": 1,
   "metadata": {},
   "outputs": [],
   "source": [
    "# Importing libraries\n",
    "import torch\n",
    "import torch.nn as nn\n",
    "import torch.nn.functional as F"
   ]
  },
  {
   "cell_type": "markdown",
   "metadata": {},
   "source": [
    "### Loading the model "
   ]
  },
  {
   "cell_type": "code",
   "execution_count": 18,
   "metadata": {},
   "outputs": [],
   "source": [
    "###  Model Blueprint\n",
    "from torch import Tensor\n",
    "from typing import Type\n",
    "\n",
    "class BasicBlock(nn.Module):\n",
    "    expansion = 1\n",
    "\n",
    "    def __init__(self, in_channels: int, out_channels: int, stride: int = 1, downsample: nn.Module = None):\n",
    "        super(BasicBlock, self).__init__()\n",
    "        self.conv1 = nn.Conv2d(in_channels, out_channels, kernel_size=3, stride=stride, padding=1, bias=False)\n",
    "        self.bn1 = nn.BatchNorm2d(out_channels)\n",
    "        self.relu = nn.ReLU(inplace=True)\n",
    "        self.conv2 = nn.Conv2d(out_channels, out_channels, kernel_size=3, stride=1, padding=1, bias=False)\n",
    "        self.bn2 = nn.BatchNorm2d(out_channels)\n",
    "        self.downsample = downsample\n",
    "\n",
    "    def forward(self, x: Tensor) -> Tensor:\n",
    "        identity = x\n",
    "        if self.downsample is not None:\n",
    "            identity = self.downsample(x)\n",
    "\n",
    "        out = self.conv1(x)\n",
    "        out = self.bn1(out)\n",
    "        out = self.relu(out)\n",
    "\n",
    "        out = self.conv2(out)\n",
    "        out = self.bn2(out)\n",
    "\n",
    "        out += identity\n",
    "        out = self.relu(out)\n",
    "\n",
    "        return out\n",
    "\n",
    "class ResNet(nn.Module):\n",
    "    def __init__(self, block: Type[BasicBlock], layers: list[int], num_classes: int = 1000):\n",
    "        super(ResNet, self).__init__()\n",
    "        self.in_channels = 64\n",
    "\n",
    "        # Initial convolutional layer\n",
    "        self.conv1 = nn.Conv2d(3, 64, kernel_size=7, stride=2, padding=3, bias=False)\n",
    "        self.bn1 = nn.BatchNorm2d(64)\n",
    "        self.relu = nn.ReLU(inplace=True)\n",
    "        self.maxpool = nn.MaxPool2d(kernel_size=3, stride=2, padding=1)\n",
    "\n",
    "        # Residual layers\n",
    "        self.layer1 = self._make_layer(block, 64, layers[0])\n",
    "        self.layer2 = self._make_layer(block, 128, layers[1], stride=2)\n",
    "        self.layer3 = self._make_layer(block, 256, layers[2], stride=2)\n",
    "        self.layer4 = self._make_layer(block, 512, layers[3], stride=2)\n",
    "\n",
    "        # Final pooling and fully connected layer\n",
    "        self.avgpool = nn.AdaptiveAvgPool2d((1, 1))\n",
    "        self.fc = nn.Linear(512 * block.expansion, num_classes)\n",
    "\n",
    "    def _make_layer(self, block: Type[BasicBlock], out_channels: int, blocks: int, stride: int = 1):\n",
    "        downsample = None\n",
    "        if stride != 1 or self.in_channels != out_channels * block.expansion:\n",
    "            downsample = nn.Sequential(\n",
    "                nn.Conv2d(self.in_channels, out_channels * block.expansion,\n",
    "                          kernel_size=1, stride=stride, bias=False),\n",
    "                nn.BatchNorm2d(out_channels * block.expansion),\n",
    "            )\n",
    "\n",
    "        layers = []\n",
    "        layers.append(block(self.in_channels, out_channels, stride=stride, downsample=downsample))\n",
    "        self.in_channels = out_channels * block.expansion\n",
    "        for _ in range(1, blocks):\n",
    "            layers.append(block(self.in_channels, out_channels))\n",
    "\n",
    "        return nn.Sequential(*layers)\n",
    "\n",
    "    def forward(self, x: Tensor) -> Tensor:\n",
    "        x = self.conv1(x)\n",
    "        x = self.bn1(x)\n",
    "        x = self.relu(x)\n",
    "        x = self.maxpool(x)\n",
    "\n",
    "        x = self.layer1(x)\n",
    "        x = self.layer2(x)\n",
    "        x = self.layer3(x)\n",
    "        x = self.layer4(x)\n",
    "\n",
    "        x = self.avgpool(x)\n",
    "        x = torch.flatten(x, 1)\n",
    "        x = self.fc(x)\n",
    "\n",
    "        return x\n",
    "    \n",
    "def ResNet18(num_classes=3):\n",
    "    return ResNet(BasicBlock, [2, 2, 2, 2], num_classes=3)"
   ]
  },
  {
   "cell_type": "code",
   "execution_count": 23,
   "metadata": {},
   "outputs": [
    {
     "data": {
      "text/plain": [
       "==========================================================================================\n",
       "Layer (type:depth-idx)                   Output Shape              Param #\n",
       "==========================================================================================\n",
       "ResNet                                   [64, 3]                   --\n",
       "├─Conv2d: 1-1                            [64, 64, 32, 32]          9,408\n",
       "├─BatchNorm2d: 1-2                       [64, 64, 32, 32]          128\n",
       "├─ReLU: 1-3                              [64, 64, 32, 32]          --\n",
       "├─MaxPool2d: 1-4                         [64, 64, 16, 16]          --\n",
       "├─Sequential: 1-5                        [64, 64, 16, 16]          --\n",
       "│    └─BasicBlock: 2-1                   [64, 64, 16, 16]          --\n",
       "│    │    └─Conv2d: 3-1                  [64, 64, 16, 16]          36,864\n",
       "│    │    └─BatchNorm2d: 3-2             [64, 64, 16, 16]          128\n",
       "│    │    └─ReLU: 3-3                    [64, 64, 16, 16]          --\n",
       "│    │    └─Conv2d: 3-4                  [64, 64, 16, 16]          36,864\n",
       "│    │    └─BatchNorm2d: 3-5             [64, 64, 16, 16]          128\n",
       "│    │    └─ReLU: 3-6                    [64, 64, 16, 16]          --\n",
       "│    └─BasicBlock: 2-2                   [64, 64, 16, 16]          --\n",
       "│    │    └─Conv2d: 3-7                  [64, 64, 16, 16]          36,864\n",
       "│    │    └─BatchNorm2d: 3-8             [64, 64, 16, 16]          128\n",
       "│    │    └─ReLU: 3-9                    [64, 64, 16, 16]          --\n",
       "│    │    └─Conv2d: 3-10                 [64, 64, 16, 16]          36,864\n",
       "│    │    └─BatchNorm2d: 3-11            [64, 64, 16, 16]          128\n",
       "│    │    └─ReLU: 3-12                   [64, 64, 16, 16]          --\n",
       "├─Sequential: 1-6                        [64, 128, 8, 8]           --\n",
       "│    └─BasicBlock: 2-3                   [64, 128, 8, 8]           --\n",
       "│    │    └─Sequential: 3-13             [64, 128, 8, 8]           8,448\n",
       "│    │    └─Conv2d: 3-14                 [64, 128, 8, 8]           73,728\n",
       "│    │    └─BatchNorm2d: 3-15            [64, 128, 8, 8]           256\n",
       "│    │    └─ReLU: 3-16                   [64, 128, 8, 8]           --\n",
       "│    │    └─Conv2d: 3-17                 [64, 128, 8, 8]           147,456\n",
       "│    │    └─BatchNorm2d: 3-18            [64, 128, 8, 8]           256\n",
       "│    │    └─ReLU: 3-19                   [64, 128, 8, 8]           --\n",
       "│    └─BasicBlock: 2-4                   [64, 128, 8, 8]           --\n",
       "│    │    └─Conv2d: 3-20                 [64, 128, 8, 8]           147,456\n",
       "│    │    └─BatchNorm2d: 3-21            [64, 128, 8, 8]           256\n",
       "│    │    └─ReLU: 3-22                   [64, 128, 8, 8]           --\n",
       "│    │    └─Conv2d: 3-23                 [64, 128, 8, 8]           147,456\n",
       "│    │    └─BatchNorm2d: 3-24            [64, 128, 8, 8]           256\n",
       "│    │    └─ReLU: 3-25                   [64, 128, 8, 8]           --\n",
       "├─Sequential: 1-7                        [64, 256, 4, 4]           --\n",
       "│    └─BasicBlock: 2-5                   [64, 256, 4, 4]           --\n",
       "│    │    └─Sequential: 3-26             [64, 256, 4, 4]           33,280\n",
       "│    │    └─Conv2d: 3-27                 [64, 256, 4, 4]           294,912\n",
       "│    │    └─BatchNorm2d: 3-28            [64, 256, 4, 4]           512\n",
       "│    │    └─ReLU: 3-29                   [64, 256, 4, 4]           --\n",
       "│    │    └─Conv2d: 3-30                 [64, 256, 4, 4]           589,824\n",
       "│    │    └─BatchNorm2d: 3-31            [64, 256, 4, 4]           512\n",
       "│    │    └─ReLU: 3-32                   [64, 256, 4, 4]           --\n",
       "│    └─BasicBlock: 2-6                   [64, 256, 4, 4]           --\n",
       "│    │    └─Conv2d: 3-33                 [64, 256, 4, 4]           589,824\n",
       "│    │    └─BatchNorm2d: 3-34            [64, 256, 4, 4]           512\n",
       "│    │    └─ReLU: 3-35                   [64, 256, 4, 4]           --\n",
       "│    │    └─Conv2d: 3-36                 [64, 256, 4, 4]           589,824\n",
       "│    │    └─BatchNorm2d: 3-37            [64, 256, 4, 4]           512\n",
       "│    │    └─ReLU: 3-38                   [64, 256, 4, 4]           --\n",
       "├─Sequential: 1-8                        [64, 512, 2, 2]           --\n",
       "│    └─BasicBlock: 2-7                   [64, 512, 2, 2]           --\n",
       "│    │    └─Sequential: 3-39             [64, 512, 2, 2]           132,096\n",
       "│    │    └─Conv2d: 3-40                 [64, 512, 2, 2]           1,179,648\n",
       "│    │    └─BatchNorm2d: 3-41            [64, 512, 2, 2]           1,024\n",
       "│    │    └─ReLU: 3-42                   [64, 512, 2, 2]           --\n",
       "│    │    └─Conv2d: 3-43                 [64, 512, 2, 2]           2,359,296\n",
       "│    │    └─BatchNorm2d: 3-44            [64, 512, 2, 2]           1,024\n",
       "│    │    └─ReLU: 3-45                   [64, 512, 2, 2]           --\n",
       "│    └─BasicBlock: 2-8                   [64, 512, 2, 2]           --\n",
       "│    │    └─Conv2d: 3-46                 [64, 512, 2, 2]           2,359,296\n",
       "│    │    └─BatchNorm2d: 3-47            [64, 512, 2, 2]           1,024\n",
       "│    │    └─ReLU: 3-48                   [64, 512, 2, 2]           --\n",
       "│    │    └─Conv2d: 3-49                 [64, 512, 2, 2]           2,359,296\n",
       "│    │    └─BatchNorm2d: 3-50            [64, 512, 2, 2]           1,024\n",
       "│    │    └─ReLU: 3-51                   [64, 512, 2, 2]           --\n",
       "├─AdaptiveAvgPool2d: 1-9                 [64, 512, 1, 1]           --\n",
       "├─Linear: 1-10                           [64, 3]                   1,539\n",
       "==========================================================================================\n",
       "Total params: 11,178,051\n",
       "Trainable params: 11,178,051\n",
       "Non-trainable params: 0\n",
       "Total mult-adds (G): 9.48\n",
       "==========================================================================================\n",
       "Input size (MB): 3.15\n",
       "Forward/backward pass size (MB): 207.62\n",
       "Params size (MB): 44.71\n",
       "Estimated Total Size (MB): 255.48\n",
       "=========================================================================================="
      ]
     },
     "execution_count": 23,
     "metadata": {},
     "output_type": "execute_result"
    }
   ],
   "source": [
    "from torchinfo import summary\n",
    "custom_model = ResNet18(3)\n",
    "dummy_input = torch.rand(64, 3, 64, 64)\n",
    "\n",
    "summary(custom_model, input_size=(64, 3, 64, 64))"
   ]
  },
  {
   "cell_type": "code",
   "execution_count": 24,
   "metadata": {},
   "outputs": [],
   "source": [
    "state_dict = torch.load('model/best_model.pt', map_location=torch.device('cpu'))"
   ]
  },
  {
   "cell_type": "code",
   "execution_count": 26,
   "metadata": {},
   "outputs": [
    {
     "data": {
      "text/plain": [
       "<All keys matched successfully>"
      ]
     },
     "execution_count": 26,
     "metadata": {},
     "output_type": "execute_result"
    }
   ],
   "source": [
    "custom_model.load_state_dict(state_dict['model_state_dict'])"
   ]
  },
  {
   "cell_type": "markdown",
   "metadata": {},
   "source": [
    "### Serializing the model"
   ]
  },
  {
   "cell_type": "code",
   "execution_count": 27,
   "metadata": {},
   "outputs": [
    {
     "name": "stderr",
     "output_type": "stream",
     "text": [
      "/home/siddharthm10/.sidPyEnvs/ml-llm-env/lib/python3.10/site-packages/torch/nn/functional.py:2474: TracerWarning: Converting a tensor to a Python boolean might cause the trace to be incorrect. We can't record the data flow of Python values, so this value will be treated as a constant in the future. This means that the trace might not generalize to other inputs!\n",
      "  if size_prods == 1:\n"
     ]
    }
   ],
   "source": [
    "traced_model = torch.jit.trace(custom_model, dummy_input)"
   ]
  },
  {
   "cell_type": "markdown",
   "metadata": {},
   "source": [
    "### Saving the model"
   ]
  },
  {
   "cell_type": "code",
   "execution_count": 28,
   "metadata": {},
   "outputs": [],
   "source": [
    "torch.jit.save(traced_model, \"serialized_models/model_v1.pt\")"
   ]
  }
 ],
 "metadata": {
  "kernelspec": {
   "display_name": "ML-LLM-ENV",
   "language": "python",
   "name": "ml-llm-env"
  },
  "language_info": {
   "codemirror_mode": {
    "name": "ipython",
    "version": 3
   },
   "file_extension": ".py",
   "mimetype": "text/x-python",
   "name": "python",
   "nbconvert_exporter": "python",
   "pygments_lexer": "ipython3",
   "version": "3.10.16"
  }
 },
 "nbformat": 4,
 "nbformat_minor": 2
}
